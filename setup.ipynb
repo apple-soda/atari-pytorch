{
 "cells": [
  {
   "cell_type": "code",
   "execution_count": 1,
   "id": "dfd16756-c60f-4c36-aeb0-7fcfe7debf55",
   "metadata": {},
   "outputs": [],
   "source": [
    "import sys\n",
    "sys.path.append('..')"
   ]
  },
  {
   "cell_type": "code",
   "execution_count": 2,
   "id": "e7774715-32f2-492f-8764-c480d60537c0",
   "metadata": {},
   "outputs": [],
   "source": [
    "from agents.dqn import *\n",
    "from core.replay import *\n",
    "from environments.wrappers import *\n",
    "from networks.cnn import *\n",
    "from utils.train import *"
   ]
  },
  {
   "cell_type": "code",
   "execution_count": 3,
   "id": "6ef836ca-8e77-4e05-a4d6-f8d6f20415f3",
   "metadata": {},
   "outputs": [],
   "source": [
    "import gym\n",
    "import torch"
   ]
  },
  {
   "cell_type": "markdown",
   "id": "326018ac-6c77-4aa9-b8e3-fe43dc4997c0",
   "metadata": {},
   "source": [
    "### Network, Environment, Agent"
   ]
  },
  {
   "cell_type": "code",
   "execution_count": 4,
   "id": "a1928768-a46c-49a9-8999-e1cd82699317",
   "metadata": {},
   "outputs": [],
   "source": [
    "network = DQNCNN()"
   ]
  },
  {
   "cell_type": "code",
   "execution_count": 5,
   "id": "d13fd47c-7819-49f5-b746-b180ff4facd7",
   "metadata": {},
   "outputs": [],
   "source": [
    "# parameters\n",
    "size = (84, 84)\n",
    "num_stacked_frames = 4\n",
    "\n",
    "raw_env = gym.make('BreakoutNoFrameskip-v4')\n",
    "env = AtariWrapper(raw_env, size=size, k=num_stacked_frames)"
   ]
  },
  {
   "cell_type": "code",
   "execution_count": 6,
   "id": "42e41e57-b522-4d83-9d16-af89dfc488ec",
   "metadata": {},
   "outputs": [],
   "source": [
    "observation_space = raw_env.observation_space\n",
    "action_space = raw_env.action_space\n",
    "params = {'epsilon':1.0, 'epsilon_decay':0.99, 'epsilon_min':0.05, 'gamma':0.99, 'alpha':2.5e-5,\n",
    "          'memory_size':250000, 'device':'cuda', 'network':network, 'batch_size':32, 'tnet_update':10000}\n",
    "\n",
    "agent = DQN(observation_space, action_space, **params)"
   ]
  },
  {
   "cell_type": "markdown",
   "id": "ef5a09e0-4d1f-4df9-9d96-64a481d90cbc",
   "metadata": {},
   "source": [
    "### Train"
   ]
  },
  {
   "cell_type": "code",
   "execution_count": 7,
   "id": "7d1e01d2-19d8-4501-88ce-b9be20cdfa18",
   "metadata": {},
   "outputs": [],
   "source": [
    "episodes = 100000\n",
    "e_verbose = 5000\n",
    "start = 10000"
   ]
  },
  {
   "cell_type": "code",
   "execution_count": null,
   "id": "d0b10270-139c-44b4-875a-05c4c2de3256",
   "metadata": {},
   "outputs": [
    {
     "name": "stdout",
     "output_type": "stream",
     "text": [
      "*** episode: 0, average reward: 2.0, optim steps: 0, memory: 205 ***\n"
     ]
    },
    {
     "name": "stderr",
     "output_type": "stream",
     "text": [
      "C:\\Users\\minha\\AppData\\Local\\Temp\\ipykernel_1664\\507295942.py:1: FutureWarning: arrays to stack must be passed as a \"sequence\" type such as list or tuple. Support for non-sequence iterables such as generators is deprecated as of NumPy 1.16 and will raise an error in the future.\n",
      "  train(agent, env, episodes, e_verbose, start)\n"
     ]
    }
   ],
   "source": [
    "train(agent, env, episodes, e_verbose, start)"
   ]
  },
  {
   "cell_type": "code",
   "execution_count": null,
   "id": "6af0f62c-126f-4bd9-8393-f45111c40070",
   "metadata": {},
   "outputs": [],
   "source": []
  }
 ],
 "metadata": {
  "kernelspec": {
   "display_name": "Python 3 (ipykernel)",
   "language": "python",
   "name": "python3"
  },
  "language_info": {
   "codemirror_mode": {
    "name": "ipython",
    "version": 3
   },
   "file_extension": ".py",
   "mimetype": "text/x-python",
   "name": "python",
   "nbconvert_exporter": "python",
   "pygments_lexer": "ipython3",
   "version": "3.8.12"
  }
 },
 "nbformat": 4,
 "nbformat_minor": 5
}
