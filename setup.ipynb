{
 "cells": [
  {
   "cell_type": "code",
   "execution_count": 1,
   "id": "dfd16756-c60f-4c36-aeb0-7fcfe7debf55",
   "metadata": {},
   "outputs": [],
   "source": [
    "import sys\n",
    "sys.path.append('..')"
   ]
  },
  {
   "cell_type": "code",
   "execution_count": 2,
   "id": "e7774715-32f2-492f-8764-c480d60537c0",
   "metadata": {},
   "outputs": [],
   "source": [
    "from agents.dqn import *\n",
    "from core.replay import *\n",
    "from environments.wrappers import *\n",
    "from networks.nature_cnn import *\n",
    "from utils.train import *\n",
    "from utils.logger import *"
   ]
  },
  {
   "cell_type": "code",
   "execution_count": 3,
   "id": "6ef836ca-8e77-4e05-a4d6-f8d6f20415f3",
   "metadata": {},
   "outputs": [],
   "source": [
    "import gym\n",
    "import torch"
   ]
  },
  {
   "cell_type": "markdown",
   "id": "326018ac-6c77-4aa9-b8e3-fe43dc4997c0",
   "metadata": {},
   "source": [
    "### Network, Environment, Agent"
   ]
  },
  {
   "cell_type": "code",
   "execution_count": 4,
   "id": "3a6d6432-abaa-4949-8483-587c74d7c840",
   "metadata": {},
   "outputs": [],
   "source": [
    "network_params = [\n",
    "            torch.nn.Conv2d(4, 32, kernel_size=8, stride=4, padding=0),\n",
    "            nn.ReLU(),\n",
    "            torch.nn.Conv2d(32, 64, kernel_size=4, stride=2, padding=0),\n",
    "            nn.ReLU(),\n",
    "            torch.nn.Conv2d(64, 64, kernel_size=3, stride=1, padding=0),\n",
    "            nn.ReLU(),\n",
    "            nn.Flatten(),\n",
    "            nn.Linear(3136, 512),\n",
    "            nn.ReLU(),\n",
    "            nn.Linear(512, 4)\n",
    "        ]"
   ]
  },
  {
   "cell_type": "code",
   "execution_count": 5,
   "id": "d13fd47c-7819-49f5-b746-b180ff4facd7",
   "metadata": {},
   "outputs": [],
   "source": [
    "# parameters\n",
    "size = (84, 84)\n",
    "num_stacked_frames = 4\n",
    "\n",
    "raw_env = gym.make('BreakoutNoFrameskip-v4')\n",
    "env = AtariWrapper(raw_env, size=size, k=num_stacked_frames)"
   ]
  },
  {
   "cell_type": "code",
   "execution_count": 6,
   "id": "42e41e57-b522-4d83-9d16-af89dfc488ec",
   "metadata": {},
   "outputs": [],
   "source": [
    "observation_space = raw_env.observation_space\n",
    "action_space = raw_env.action_space\n",
    "\n",
    "params = {'epsilon':1.0, 'epsilon_decay':0.9999, 'epsilon_min':0.1, 'gamma':0.99, 'alpha':2.5e-5, 'network_params': network_params,\n",
    "          'memory_size':200000, 'device':'cuda:0', 'batch_size':32, 'target_net_updates':10000}\n",
    "\n",
    "agent = DQNAgent(observation_space, action_space, **params)"
   ]
  },
  {
   "cell_type": "code",
   "execution_count": 7,
   "id": "3550b6e7-8db5-4719-8449-3b7cc45b692e",
   "metadata": {},
   "outputs": [
    {
     "data": {
      "text/plain": [
       "DQNCNN(\n",
       "  (network): Sequential(\n",
       "    (0): Conv2d(4, 32, kernel_size=(8, 8), stride=(4, 4))\n",
       "    (1): ReLU()\n",
       "    (2): Conv2d(32, 64, kernel_size=(4, 4), stride=(2, 2))\n",
       "    (3): ReLU()\n",
       "    (4): Conv2d(64, 64, kernel_size=(3, 3), stride=(1, 1))\n",
       "    (5): ReLU()\n",
       "    (6): Flatten(start_dim=1, end_dim=-1)\n",
       "    (7): Linear(in_features=3136, out_features=512, bias=True)\n",
       "    (8): ReLU()\n",
       "    (9): Linear(in_features=512, out_features=4, bias=True)\n",
       "  )\n",
       ")"
      ]
     },
     "execution_count": 7,
     "metadata": {},
     "output_type": "execute_result"
    }
   ],
   "source": [
    "agent.network"
   ]
  },
  {
   "cell_type": "markdown",
   "id": "ef5a09e0-4d1f-4df9-9d96-64a481d90cbc",
   "metadata": {},
   "source": [
    "### Standard Train"
   ]
  },
  {
   "cell_type": "code",
   "execution_count": 8,
   "id": "eb838264-72f9-4f66-bae2-07b195443276",
   "metadata": {},
   "outputs": [],
   "source": [
    "logger = Logger('training_info')"
   ]
  },
  {
   "cell_type": "code",
   "execution_count": 9,
   "id": "7d1e01d2-19d8-4501-88ce-b9be20cdfa18",
   "metadata": {},
   "outputs": [],
   "source": [
    "save_dir = './models/breakout/'\n",
    "training_params = {'num_steps': 0, 'total_steps':20000000, 'logger':logger, 'save_freq':1000, 'e_verbose':100, 'file_name': 'atari ddqn', 'save_dir':save_dir}"
   ]
  },
  {
   "cell_type": "code",
   "execution_count": 10,
   "id": "51f2c46f-e788-46e6-9ad5-f141e9ddf6ad",
   "metadata": {},
   "outputs": [],
   "source": [
    "# standard_train(agent, env, **training_params)"
   ]
  },
  {
   "cell_type": "markdown",
   "id": "7244d819-593c-4150-8835-d41433fbf756",
   "metadata": {},
   "source": [
    "### Runner Train"
   ]
  },
  {
   "cell_type": "code",
   "execution_count": 11,
   "id": "052e22c1-fd38-4596-a721-6738fb66c459",
   "metadata": {},
   "outputs": [],
   "source": [
    "save_dir = './models/breakout/'\n",
    "training_params = {'num_steps': 0, 'total_steps':20000000, 'logger':logger, 't_save_freq':50000, 't_verbose':50000, 'file_name': 'atari ddqn', 'save_dir':save_dir,\n",
    "                   'steps': 16}"
   ]
  },
  {
   "cell_type": "code",
   "execution_count": 12,
   "id": "8355b3e0-a2fc-4c91-a43a-6ca5d5457196",
   "metadata": {},
   "outputs": [
    {
     "ename": "AttributeError",
     "evalue": "'numpy.ndarray' object has no attribute 'append'",
     "output_type": "error",
     "traceback": [
      "\u001b[1;31m---------------------------------------------------------------------------\u001b[0m",
      "\u001b[1;31mAttributeError\u001b[0m                            Traceback (most recent call last)",
      "Input \u001b[1;32mIn [12]\u001b[0m, in \u001b[0;36m<cell line: 1>\u001b[1;34m()\u001b[0m\n\u001b[1;32m----> 1\u001b[0m \u001b[43mrunner_train\u001b[49m\u001b[43m(\u001b[49m\u001b[43magent\u001b[49m\u001b[43m,\u001b[49m\u001b[43m \u001b[49m\u001b[43menv\u001b[49m\u001b[43m,\u001b[49m\u001b[43m \u001b[49m\u001b[38;5;241;43m*\u001b[39;49m\u001b[38;5;241;43m*\u001b[39;49m\u001b[43mtraining_params\u001b[49m\u001b[43m)\u001b[49m\n",
      "File \u001b[1;32m~\\Github\\atari-reinforcement-learning\\utils\\train.py:104\u001b[0m, in \u001b[0;36mrunner_train\u001b[1;34m(agent, env, **params)\u001b[0m\n\u001b[0;32m    102\u001b[0m \u001b[38;5;28;01mwhile\u001b[39;00m num_steps \u001b[38;5;241m<\u001b[39m total_steps:\n\u001b[0;32m    103\u001b[0m     sum_reward \u001b[38;5;241m=\u001b[39m \u001b[38;5;241m0\u001b[39m\n\u001b[1;32m--> 104\u001b[0m     tuple_list \u001b[38;5;241m=\u001b[39m \u001b[43menv_runner\u001b[49m\u001b[38;5;241;43m.\u001b[39;49m\u001b[43mrun\u001b[49m\u001b[43m(\u001b[49m\u001b[43msteps\u001b[49m\u001b[43m)\u001b[49m\n\u001b[0;32m    106\u001b[0m     \u001b[38;5;66;03m# unpack list of tuples and insert into replay buffer\u001b[39;00m\n\u001b[0;32m    107\u001b[0m     \u001b[38;5;66;03m# this part could be a lot cleaner, todo\u001b[39;00m\n\u001b[0;32m    108\u001b[0m     \u001b[38;5;28;01mfor\u001b[39;00m i \u001b[38;5;129;01min\u001b[39;00m tuple_list:\n",
      "File \u001b[1;32m~\\Github\\atari-reinforcement-learning\\utils\\runner.py:23\u001b[0m, in \u001b[0;36mEnv_Runner.run\u001b[1;34m(self, steps)\u001b[0m\n\u001b[0;32m     21\u001b[0m obs\u001b[38;5;241m.\u001b[39mappend(\u001b[38;5;28mself\u001b[39m\u001b[38;5;241m.\u001b[39mob)\n\u001b[0;32m     22\u001b[0m actions\u001b[38;5;241m.\u001b[39mappend(action)\n\u001b[1;32m---> 23\u001b[0m \u001b[38;5;28mself\u001b[39m\u001b[38;5;241m.\u001b[39mob, r, done, info \u001b[38;5;241m=\u001b[39m \u001b[38;5;28;43mself\u001b[39;49m\u001b[38;5;241;43m.\u001b[39;49m\u001b[43menv\u001b[49m\u001b[38;5;241;43m.\u001b[39;49m\u001b[43mstep\u001b[49m\u001b[43m(\u001b[49m\u001b[43maction\u001b[49m\u001b[43m)\u001b[49m\n\u001b[0;32m     25\u001b[0m \u001b[38;5;28;01mif\u001b[39;00m done: \n\u001b[0;32m     26\u001b[0m     \u001b[38;5;28mself\u001b[39m\u001b[38;5;241m.\u001b[39mob \u001b[38;5;241m=\u001b[39m \u001b[38;5;28mself\u001b[39m\u001b[38;5;241m.\u001b[39menv\u001b[38;5;241m.\u001b[39mreset()\n",
      "File \u001b[1;32m~\\Github\\atari-reinforcement-learning\\environments\\wrappers.py:30\u001b[0m, in \u001b[0;36mAtariWrapper.step\u001b[1;34m(self, action)\u001b[0m\n\u001b[0;32m     28\u001b[0m t_reward \u001b[38;5;241m+\u001b[39m\u001b[38;5;241m=\u001b[39m reward\n\u001b[0;32m     29\u001b[0m next_state \u001b[38;5;241m=\u001b[39m \u001b[38;5;28mself\u001b[39m\u001b[38;5;241m.\u001b[39mprocess(next_state)\n\u001b[1;32m---> 30\u001b[0m \u001b[38;5;28;43mself\u001b[39;49m\u001b[38;5;241;43m.\u001b[39;49m\u001b[43mframes\u001b[49m\u001b[38;5;241;43m.\u001b[39;49m\u001b[43mappend\u001b[49m(next_state)\n\u001b[0;32m     32\u001b[0m \u001b[38;5;28;01mif\u001b[39;00m d:\n\u001b[0;32m     33\u001b[0m     done \u001b[38;5;241m=\u001b[39m \u001b[38;5;28;01mTrue\u001b[39;00m\n",
      "\u001b[1;31mAttributeError\u001b[0m: 'numpy.ndarray' object has no attribute 'append'"
     ]
    }
   ],
   "source": [
    "runner_train(agent, env, **training_params)"
   ]
  },
  {
   "cell_type": "code",
   "execution_count": null,
   "id": "6af0f62c-126f-4bd9-8393-f45111c40070",
   "metadata": {},
   "outputs": [],
   "source": []
  }
 ],
 "metadata": {
  "kernelspec": {
   "display_name": "Python 3 (ipykernel)",
   "language": "python",
   "name": "python3"
  },
  "language_info": {
   "codemirror_mode": {
    "name": "ipython",
    "version": 3
   },
   "file_extension": ".py",
   "mimetype": "text/x-python",
   "name": "python",
   "nbconvert_exporter": "python",
   "pygments_lexer": "ipython3",
   "version": "3.8.12"
  }
 },
 "nbformat": 4,
 "nbformat_minor": 5
}
