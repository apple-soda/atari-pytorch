{
 "cells": [
  {
   "cell_type": "markdown",
   "id": "5d986cb2-e0b7-4746-8d93-608a3e291c21",
   "metadata": {},
   "source": [
    "# Same notebook as breakout.ipynb, but using OpenAI's atari wrappers instead"
   ]
  },
  {
   "cell_type": "code",
   "execution_count": 1,
   "id": "140a85c8-4925-4b19-a100-d79c12c2d726",
   "metadata": {},
   "outputs": [],
   "source": [
    "import sys\n",
    "sys.path.append('..')"
   ]
  },
  {
   "cell_type": "code",
   "execution_count": 2,
   "id": "59f51ede-7f0a-48da-a161-5948950d177a",
   "metadata": {},
   "outputs": [],
   "source": [
    "from agents.ddqn import *\n",
    "from environments.openai import *\n",
    "from utils.train import *\n",
    "from utils.logger import *\n",
    "from utils.render import *"
   ]
  },
  {
   "cell_type": "code",
   "execution_count": 3,
   "id": "9afcc9bf-dacb-40fb-bad4-414beadb0c5d",
   "metadata": {},
   "outputs": [],
   "source": [
    "import gym\n",
    "import matplotlib.pyplot as plt\n",
    "import numpy as np\n",
    "import torch\n",
    "import pandas as pd"
   ]
  },
  {
   "cell_type": "code",
   "execution_count": 4,
   "id": "fef795f5-0226-493c-8dc9-f0de939d8dc2",
   "metadata": {},
   "outputs": [],
   "source": [
    "# initialize environment\n",
    "raw_env = gym.make('BreakoutNoFrameskip-v4')\n",
    "env = Wrap_Deepmind(raw_env)"
   ]
  },
  {
   "cell_type": "markdown",
   "id": "78abe324-6f3c-452f-876b-ba4913c060d7",
   "metadata": {},
   "source": [
    "### Scaling hyperparameters in accordance with environment parameter changes\n",
    "#### num_steps += 1 represents 4 frames (so really num_steps += 4)"
   ]
  },
  {
   "cell_type": "code",
   "execution_count": 5,
   "id": "5a32f328-792e-43ea-bf4b-fb4351c5692d",
   "metadata": {},
   "outputs": [],
   "source": [
    "# initialize agent\n",
    "observation_space = raw_env.observation_space\n",
    "action_space = raw_env.action_space\n",
    "\n",
    "params = {'epsilon':1.0, 'epsilon_min':0.1, 'epsilon_decay': None, 'eps_ff': 250000, 'eps_interval':0.9, 'eps_start':1.0, 'gamma':0.99, 'alpha':2.5e-5, \n",
    "          'network_params': None, 'memory_size':150000, 'device':'cuda:0', 'batch_size':32, 'target_net_updates':2500}\n",
    "\n",
    "agent = DQNAgent(observation_space, action_space, **params)"
   ]
  },
  {
   "cell_type": "code",
   "execution_count": 6,
   "id": "53e33fae-b95e-4720-8f92-d7552d7a3e36",
   "metadata": {},
   "outputs": [
    {
     "data": {
      "text/plain": [
       "DeepmindCNN(\n",
       "  (network): Sequential(\n",
       "    (0): Conv2d(4, 32, kernel_size=(8, 8), stride=(4, 4))\n",
       "    (1): ReLU()\n",
       "    (2): Conv2d(32, 64, kernel_size=(4, 4), stride=(2, 2))\n",
       "    (3): ReLU()\n",
       "    (4): Conv2d(64, 64, kernel_size=(3, 3), stride=(1, 1))\n",
       "    (5): ReLU()\n",
       "    (6): Flatten(start_dim=1, end_dim=-1)\n",
       "    (7): Linear(in_features=3136, out_features=512, bias=True)\n",
       "    (8): ReLU()\n",
       "    (9): Linear(in_features=512, out_features=4, bias=True)\n",
       "  )\n",
       ")"
      ]
     },
     "execution_count": 6,
     "metadata": {},
     "output_type": "execute_result"
    }
   ],
   "source": [
    "agent.network"
   ]
  },
  {
   "cell_type": "code",
   "execution_count": 7,
   "id": "db2cdd4b-90d3-435f-a136-22261d874dad",
   "metadata": {},
   "outputs": [],
   "source": [
    "logger = Logger('training_info')"
   ]
  },
  {
   "cell_type": "code",
   "execution_count": 8,
   "id": "4da64f3f-cabb-42b4-9c8d-6845f9b7cd82",
   "metadata": {},
   "outputs": [],
   "source": [
    "save_dir = '../models/breakout/'\n",
    "training_params = {'total_steps':5000000, 'logger':logger, 'save_freq':100000, 'e_verbose':250000, 'file_name': 'breakout ddqn 2', 'save_dir':save_dir}"
   ]
  },
  {
   "cell_type": "markdown",
   "id": "caac7031-8df2-452c-8094-1c0596705be7",
   "metadata": {},
   "source": [
    "### Deepmind Atari Preprocesing:\n",
    "* Frameskips between stacked inputs\n",
    "    * Each input spans 16 frames\n",
    "* Inputs have overlap\n",
    "    * (x1, x2, x3, x4) --env.step--> (x2, x3, x4, x5)\n",
    "    * x1 and x2 differ by 4 frames\n",
    "* READ: https://danieltakeshi.github.io/2016/11/25/frame-skipping-and-preprocessing-for-deep-q-networks-on-atari-2600-games/\n",
    "\n",
    "### My Atari Preprocessing:\n",
    "* No frameskips between stacked inputs. \n",
    "    * Each input spans 4 frames\n",
    "* No overlap between frames unless environment termination\n",
    "    * (x1, x2, x3, x4) --env.step--> (x5, x6, x7, x8)"
   ]
  },
  {
   "cell_type": "code",
   "execution_count": null,
   "id": "1fd369d2-819e-4e81-81be-493185d2753a",
   "metadata": {},
   "outputs": [],
   "source": [
    "standard_train(agent, env, **training_params)"
   ]
  }
 ],
 "metadata": {
  "kernelspec": {
   "display_name": "Python 3 (ipykernel)",
   "language": "python",
   "name": "python3"
  },
  "language_info": {
   "codemirror_mode": {
    "name": "ipython",
    "version": 3
   },
   "file_extension": ".py",
   "mimetype": "text/x-python",
   "name": "python",
   "nbconvert_exporter": "python",
   "pygments_lexer": "ipython3",
   "version": "3.8.12"
  }
 },
 "nbformat": 4,
 "nbformat_minor": 5
}
