{
 "cells": [
  {
   "cell_type": "code",
   "execution_count": 1,
   "id": "dfd16756-c60f-4c36-aeb0-7fcfe7debf55",
   "metadata": {},
   "outputs": [],
   "source": [
    "import sys\n",
    "sys.path.append('..')"
   ]
  },
  {
   "cell_type": "code",
   "execution_count": 2,
   "id": "e7774715-32f2-492f-8764-c480d60537c0",
   "metadata": {},
   "outputs": [],
   "source": [
    "from agents.ddqn import *\n",
    "from utils.replay import *\n",
    "from environments.wrappers import *\n",
    "from networks.flexnet import *\n",
    "from utils.train import *\n",
    "from utils.logger import *\n",
    "from utils.render import *"
   ]
  },
  {
   "cell_type": "code",
   "execution_count": 3,
   "id": "6ef836ca-8e77-4e05-a4d6-f8d6f20415f3",
   "metadata": {},
   "outputs": [],
   "source": [
    "import gym\n",
    "import torch"
   ]
  },
  {
   "cell_type": "markdown",
   "id": "326018ac-6c77-4aa9-b8e3-fe43dc4997c0",
   "metadata": {},
   "source": [
    "### Network, Environment, Agent"
   ]
  },
  {
   "cell_type": "code",
   "execution_count": 4,
   "id": "3a6d6432-abaa-4949-8483-587c74d7c840",
   "metadata": {},
   "outputs": [],
   "source": [
    "network_params = [\n",
    "            torch.nn.Conv2d(4, 32, kernel_size=8, stride=4, padding=0),\n",
    "            nn.ReLU(),\n",
    "            torch.nn.Conv2d(32, 64, kernel_size=4, stride=2, padding=0),\n",
    "            nn.ReLU(),\n",
    "            torch.nn.Conv2d(64, 64, kernel_size=3, stride=1, padding=0),\n",
    "            nn.ReLU(),\n",
    "            nn.Flatten(),\n",
    "            nn.Linear(3136, 512),\n",
    "            nn.ReLU(),\n",
    "            nn.Linear(512, 4)\n",
    "        ]"
   ]
  },
  {
   "cell_type": "code",
   "execution_count": 5,
   "id": "d13fd47c-7819-49f5-b746-b180ff4facd7",
   "metadata": {},
   "outputs": [],
   "source": [
    "# parameters\n",
    "img_size = (84, 84)\n",
    "num_stacked_frames = 4\n",
    "\n",
    "raw_env = gym.make('BreakoutNoFrameskip-v4')\n",
    "env = AtariWrapper(raw_env, k=num_stacked_frames, img_size=img_size)"
   ]
  },
  {
   "cell_type": "code",
   "execution_count": 6,
   "id": "42e41e57-b522-4d83-9d16-af89dfc488ec",
   "metadata": {},
   "outputs": [],
   "source": [
    "observation_space = raw_env.observation_space\n",
    "action_space = raw_env.action_space\n",
    "\n",
    "params = {'epsilon':1.0, 'epsilon_min':0.1, 'epsilon_decay': None, 'eps_ff': 1000000, 'eps_interval':0.9, 'eps_start':1.0, 'gamma':0.99, 'alpha':2.5e-5, 'network_params': network_params,\n",
    "          'memory_size':150000, 'device':'cuda:0', 'batch_size':32, 'target_net_updates':10000}\n",
    "\n",
    "agent = DQNAgent(observation_space, action_space, **params)"
   ]
  },
  {
   "cell_type": "code",
   "execution_count": 7,
   "id": "3550b6e7-8db5-4719-8449-3b7cc45b692e",
   "metadata": {},
   "outputs": [
    {
     "data": {
      "text/plain": [
       "DeepmindCNN(\n",
       "  (network): Sequential(\n",
       "    (0): Conv2d(4, 32, kernel_size=(8, 8), stride=(4, 4))\n",
       "    (1): ReLU()\n",
       "    (2): Conv2d(32, 64, kernel_size=(4, 4), stride=(2, 2))\n",
       "    (3): ReLU()\n",
       "    (4): Conv2d(64, 64, kernel_size=(3, 3), stride=(1, 1))\n",
       "    (5): ReLU()\n",
       "    (6): Flatten(start_dim=1, end_dim=-1)\n",
       "    (7): Linear(in_features=3136, out_features=512, bias=True)\n",
       "    (8): ReLU()\n",
       "    (9): Linear(in_features=512, out_features=4, bias=True)\n",
       "  )\n",
       ")"
      ]
     },
     "execution_count": 7,
     "metadata": {},
     "output_type": "execute_result"
    }
   ],
   "source": [
    "agent.network"
   ]
  },
  {
   "cell_type": "markdown",
   "id": "ef5a09e0-4d1f-4df9-9d96-64a481d90cbc",
   "metadata": {},
   "source": [
    "### Standard Train"
   ]
  },
  {
   "cell_type": "code",
   "execution_count": 8,
   "id": "eb838264-72f9-4f66-bae2-07b195443276",
   "metadata": {},
   "outputs": [],
   "source": [
    "logger = Logger('training_info')"
   ]
  },
  {
   "cell_type": "code",
   "execution_count": 9,
   "id": "7d1e01d2-19d8-4501-88ce-b9be20cdfa18",
   "metadata": {},
   "outputs": [],
   "source": [
    "save_dir = './models/breakout/'\n",
    "training_params = {'total_steps':20000000, 'logger':logger, 'save_freq':500000, 'e_verbose':50000, 'file_name': 'breakout ddqn', 'save_dir':save_dir}"
   ]
  },
  {
   "cell_type": "code",
   "execution_count": null,
   "id": "51f2c46f-e788-46e6-9ad5-f141e9ddf6ad",
   "metadata": {},
   "outputs": [
    {
     "name": "stdout",
     "output_type": "stream",
     "text": [
      "Steps : 50000, Average Reward: 1.1214285714285714, Memory Length: 50000, Optimizer Steps: 50000, Time Elapsed: 286.32413387298584, Target Q Updates: 5\n",
      "Steps : 100000, Average Reward: 1.151624548736462, Memory Length: 100000, Optimizer Steps: 100000, Time Elapsed: 362.72354674339294, Target Q Updates: 10\n",
      "Steps : 150000, Average Reward: 0.8610169491525423, Memory Length: 150000, Optimizer Steps: 150000, Time Elapsed: 456.6999294757843, Target Q Updates: 15\n"
     ]
    }
   ],
   "source": [
    "standard_train(agent, env, **training_params)"
   ]
  },
  {
   "cell_type": "markdown",
   "id": "757526f7-5aed-40f8-b2e4-a1dd75018edd",
   "metadata": {},
   "source": [
    "## Watch"
   ]
  },
  {
   "cell_type": "code",
   "execution_count": null,
   "id": "c88e1a7b-c2f8-4138-b4bf-e2341d278b4d",
   "metadata": {},
   "outputs": [],
   "source": [
    "render_agent(agent, env, './models/breakout/atari ddqn.pth', 2)"
   ]
  },
  {
   "cell_type": "code",
   "execution_count": null,
   "id": "6af0f62c-126f-4bd9-8393-f45111c40070",
   "metadata": {},
   "outputs": [],
   "source": []
  }
 ],
 "metadata": {
  "kernelspec": {
   "display_name": "Python 3 (ipykernel)",
   "language": "python",
   "name": "python3"
  },
  "language_info": {
   "codemirror_mode": {
    "name": "ipython",
    "version": 3
   },
   "file_extension": ".py",
   "mimetype": "text/x-python",
   "name": "python",
   "nbconvert_exporter": "python",
   "pygments_lexer": "ipython3",
   "version": "3.8.12"
  }
 },
 "nbformat": 4,
 "nbformat_minor": 5
}
