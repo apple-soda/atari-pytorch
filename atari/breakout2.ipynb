{
 "cells": [
  {
   "cell_type": "markdown",
   "id": "5d986cb2-e0b7-4746-8d93-608a3e291c21",
   "metadata": {},
   "source": [
    "# Same notebook as breakout.ipynb, but using OpenAI's atari wrappers instead"
   ]
  },
  {
   "cell_type": "code",
   "execution_count": null,
   "id": "140a85c8-4925-4b19-a100-d79c12c2d726",
   "metadata": {},
   "outputs": [],
   "source": [
    "import sys\n",
    "sys.path.append('..')"
   ]
  },
  {
   "cell_type": "code",
   "execution_count": null,
   "id": "59f51ede-7f0a-48da-a161-5948950d177a",
   "metadata": {},
   "outputs": [],
   "source": [
    "from agents.ddqn import *\n",
    "from environments.openai import *\n",
    "from utils.train import *\n",
    "from utils.logger import *\n",
    "from utils.render import *"
   ]
  },
  {
   "cell_type": "code",
   "execution_count": null,
   "id": "9afcc9bf-dacb-40fb-bad4-414beadb0c5d",
   "metadata": {},
   "outputs": [],
   "source": [
    "import gym\n",
    "import matplotlib.pyplot as plt\n",
    "import numpy as np\n",
    "import torch\n",
    "import pandas as pd"
   ]
  },
  {
   "cell_type": "code",
   "execution_count": null,
   "id": "fef795f5-0226-493c-8dc9-f0de939d8dc2",
   "metadata": {},
   "outputs": [],
   "source": [
    "# initialize environment\n",
    "raw_env = gym.make('BreakoutNoFrameskip-v4')\n",
    "env = Wrap_Deepmind(raw_env)"
   ]
  },
  {
   "cell_type": "markdown",
   "id": "78abe324-6f3c-452f-876b-ba4913c060d7",
   "metadata": {},
   "source": [
    "### Scaling hyperparameters in accordance with environment parameter changes\n",
    "#### num_steps += 1 represents 4 frames (so really num_steps += 4)"
   ]
  },
  {
   "cell_type": "code",
   "execution_count": null,
   "id": "924f745c-7769-4fce-9851-044d0e538fd7",
   "metadata": {},
   "outputs": [],
   "source": [
    "# checking environment observation/action space for network parameteres\n",
    "print(raw_env.action_space.n)"
   ]
  },
  {
   "cell_type": "code",
   "execution_count": null,
   "id": "3874c8b6-081a-4a10-b74f-b8daacc12ed3",
   "metadata": {},
   "outputs": [],
   "source": [
    "in_channels = 4\n",
    "num_actions = 4\n",
    "\n",
    "net_params = [\n",
    "        torch.nn.Conv2d(in_channels, 32, kernel_size=8, stride=4, padding=0),\n",
    "        nn.ReLU(),\n",
    "        torch.nn.Conv2d(32, 64, kernel_size=4, stride=2, padding=0),\n",
    "        nn.ReLU(),\n",
    "        torch.nn.Conv2d(64, 64, kernel_size=3, stride=1, padding=0),\n",
    "        nn.ReLU(),\n",
    "        nn.Flatten(),\n",
    "        nn.Linear(64*7*7,512),\n",
    "        nn.ReLU(),\n",
    "        nn.Linear(512, num_actions)\n",
    "        ]"
   ]
  },
  {
   "cell_type": "code",
   "execution_count": null,
   "id": "5a32f328-792e-43ea-bf4b-fb4351c5692d",
   "metadata": {},
   "outputs": [],
   "source": [
    "# initialize agent\n",
    "observation_space = raw_env.observation_space\n",
    "action_space = raw_env.action_space\n",
    "\n",
    "memory_size = 1000000 # ONE MILLION\n",
    "\n",
    "params = {'epsilon':1.0, 'epsilon_min':0.1, 'epsilon_decay': None, 'eps_ff': 1000000, 'eps_interval':0.9, 'eps_start':1.0, 'gamma':0.99, 'alpha':6e-5, \n",
    "          'network_params': net_params, 'memory_size':memory_size, 'device':'cuda:0', 'batch_size':32, 'target_net_updates':1000}\n",
    "\n",
    "agent = DQNAgent(observation_space, action_space, **params)"
   ]
  },
  {
   "cell_type": "code",
   "execution_count": null,
   "id": "53e33fae-b95e-4720-8f92-d7552d7a3e36",
   "metadata": {},
   "outputs": [],
   "source": [
    "agent.network"
   ]
  },
  {
   "cell_type": "code",
   "execution_count": null,
   "id": "db2cdd4b-90d3-435f-a136-22261d874dad",
   "metadata": {},
   "outputs": [],
   "source": [
    "logger = Logger('training_info')"
   ]
  },
  {
   "cell_type": "code",
   "execution_count": null,
   "id": "4da64f3f-cabb-42b4-9c8d-6845f9b7cd82",
   "metadata": {},
   "outputs": [],
   "source": [
    "save_dir = '../models/breakout/'\n",
    "training_params = {'total_steps':15000000, 'logger':logger, 'save_freq':1000000, 'e_verbose':1000000, 'file_name': 'space invaders ddqn', 'save_dir':save_dir}"
   ]
  },
  {
   "cell_type": "markdown",
   "id": "caac7031-8df2-452c-8094-1c0596705be7",
   "metadata": {},
   "source": [
    "### Deepmind Atari Preprocesing:\n",
    "* Extremely high RAM usage\n",
    "* Frameskips between stacked inputs\n",
    "    * Each input spans 16 frames\n",
    "* Inputs have overlap\n",
    "    * (x1, x2, x3, x4) --env.step--> (x2, x3, x4, x5)\n",
    "    * x1 and x2 differ by 4 frames\n",
    "* READ: https://danieltakeshi.github.io/2016/11/25/frame-skipping-and-preprocessing-for-deep-q-networks-on-atari-2600-games/\n",
    "\n",
    "### My Atari Preprocessing:\n",
    "* Lower RAM usage\n",
    "* No frameskips between stacked inputs. \n",
    "    * Each input spans 4 frames\n",
    "* No overlap between frames unless environment termination\n",
    "    * (x1, x2, x3, x4) --env.step--> (x5, x6, x7, x8)"
   ]
  },
  {
   "cell_type": "code",
   "execution_count": null,
   "id": "1fd369d2-819e-4e81-81be-493185d2753a",
   "metadata": {},
   "outputs": [],
   "source": [
    "standard_train(agent, env, **training_params)"
   ]
  },
  {
   "cell_type": "markdown",
   "id": "da19d3e6-4f61-43ba-97b5-f1d784019762",
   "metadata": {},
   "source": [
    "# if doesnt work, change noop, monitor, and firereset. all useless. also make it so the user can specify which environments to use."
   ]
  },
  {
   "cell_type": "code",
   "execution_count": null,
   "id": "e2cfcb04-e6f9-4988-ade3-01ea4359c966",
   "metadata": {},
   "outputs": [],
   "source": [
    "path = '../models/spaceinvaders/si ddqn 2.pth'\n",
    "save = '../models/spaceinvaders/si ddqn 2 final.pth'"
   ]
  },
  {
   "cell_type": "code",
   "execution_count": null,
   "id": "1335cc24-d1b1-4d93-87ee-62262f7a317a",
   "metadata": {},
   "outputs": [],
   "source": [
    "agent.save(save)"
   ]
  },
  {
   "cell_type": "code",
   "execution_count": null,
   "id": "51b4716a-55b5-4a33-a3cb-e9807f8e320c",
   "metadata": {},
   "outputs": [],
   "source": [
    "render_agent(agent, env, save, 3)"
   ]
  },
  {
   "cell_type": "code",
   "execution_count": null,
   "id": "f83bb4c0-0523-44e9-97cb-0bbabcc0d8e5",
   "metadata": {},
   "outputs": [],
   "source": []
  }
 ],
 "metadata": {
  "kernelspec": {
   "display_name": "Python 3 (ipykernel)",
   "language": "python",
   "name": "python3"
  },
  "language_info": {
   "codemirror_mode": {
    "name": "ipython",
    "version": 3
   },
   "file_extension": ".py",
   "mimetype": "text/x-python",
   "name": "python",
   "nbconvert_exporter": "python",
   "pygments_lexer": "ipython3",
   "version": "3.8.12"
  }
 },
 "nbformat": 4,
 "nbformat_minor": 5
}
