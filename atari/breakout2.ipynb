{
 "cells": [
  {
   "cell_type": "markdown",
   "id": "5d986cb2-e0b7-4746-8d93-608a3e291c21",
   "metadata": {},
   "source": [
    "# Same notebook as breakout.ipynb, but using OpenAI's atari wrappers instead"
   ]
  },
  {
   "cell_type": "code",
   "execution_count": 1,
   "id": "140a85c8-4925-4b19-a100-d79c12c2d726",
   "metadata": {},
   "outputs": [],
   "source": [
    "import sys\n",
    "sys.path.append('..')"
   ]
  },
  {
   "cell_type": "code",
   "execution_count": 2,
   "id": "59f51ede-7f0a-48da-a161-5948950d177a",
   "metadata": {},
   "outputs": [],
   "source": [
    "from agents.ddqn import *\n",
    "from environments.openai import *\n",
    "from utils.train import *\n",
    "from utils.logger import *\n",
    "from utils.render import *"
   ]
  },
  {
   "cell_type": "code",
   "execution_count": 3,
   "id": "9afcc9bf-dacb-40fb-bad4-414beadb0c5d",
   "metadata": {},
   "outputs": [],
   "source": [
    "import gym\n",
    "import matplotlib.pyplot as plt\n",
    "import numpy as np\n",
    "import torch\n",
    "import pandas as pd"
   ]
  },
  {
   "cell_type": "code",
   "execution_count": 4,
   "id": "fef795f5-0226-493c-8dc9-f0de939d8dc2",
   "metadata": {},
   "outputs": [],
   "source": [
    "# initialize environment\n",
    "raw_env = gym.make('SpaceInvadersNoFrameskip-v4')\n",
    "env = Wrap_Deepmind(raw_env)"
   ]
  },
  {
   "cell_type": "markdown",
   "id": "78abe324-6f3c-452f-876b-ba4913c060d7",
   "metadata": {},
   "source": [
    "### Scaling hyperparameters in accordance with environment parameter changes\n",
    "#### num_steps += 1 represents 4 frames (so really num_steps += 4)"
   ]
  },
  {
   "cell_type": "code",
   "execution_count": 8,
   "id": "924f745c-7769-4fce-9851-044d0e538fd7",
   "metadata": {},
   "outputs": [
    {
     "name": "stdout",
     "output_type": "stream",
     "text": [
      "6\n"
     ]
    }
   ],
   "source": [
    "# checking environment observation/action space for network parameteres\n",
    "print(raw_env.action_space.n)"
   ]
  },
  {
   "cell_type": "code",
   "execution_count": 9,
   "id": "3874c8b6-081a-4a10-b74f-b8daacc12ed3",
   "metadata": {},
   "outputs": [],
   "source": [
    "in_channels = 4\n",
    "num_actions = 6\n",
    "\n",
    "net_params = [\n",
    "        torch.nn.Conv2d(in_channels, 32, kernel_size=8, stride=4, padding=0),\n",
    "        nn.ReLU(),\n",
    "        torch.nn.Conv2d(32, 64, kernel_size=4, stride=2, padding=0),\n",
    "        nn.ReLU(),\n",
    "        torch.nn.Conv2d(64, 64, kernel_size=3, stride=1, padding=0),\n",
    "        nn.ReLU(),\n",
    "        nn.Flatten(),\n",
    "        nn.Linear(64*7*7,512),\n",
    "        nn.ReLU(),\n",
    "        nn.Linear(512, num_actions)\n",
    "        ]"
   ]
  },
  {
   "cell_type": "code",
   "execution_count": 10,
   "id": "5a32f328-792e-43ea-bf4b-fb4351c5692d",
   "metadata": {},
   "outputs": [],
   "source": [
    "# initialize agent\n",
    "observation_space = raw_env.observation_space\n",
    "action_space = raw_env.action_space\n",
    "\n",
    "params = {'epsilon':1.0, 'epsilon_min':0.1, 'epsilon_decay': None, 'eps_ff': 1000000, 'eps_interval':0.9, 'eps_start':1.0, 'gamma':0.99, 'alpha':6e-5, \n",
    "          'network_params': net_params, 'memory_size':150000, 'device':'cuda:0', 'batch_size':32, 'target_net_updates':2500}\n",
    "\n",
    "agent = DQNAgent(observation_space, action_space, **params)"
   ]
  },
  {
   "cell_type": "code",
   "execution_count": 11,
   "id": "53e33fae-b95e-4720-8f92-d7552d7a3e36",
   "metadata": {},
   "outputs": [
    {
     "data": {
      "text/plain": [
       "Net(\n",
       "  (network): Sequential(\n",
       "    (0): Conv2d(4, 32, kernel_size=(8, 8), stride=(4, 4))\n",
       "    (1): ReLU()\n",
       "    (2): Conv2d(32, 64, kernel_size=(4, 4), stride=(2, 2))\n",
       "    (3): ReLU()\n",
       "    (4): Conv2d(64, 64, kernel_size=(3, 3), stride=(1, 1))\n",
       "    (5): ReLU()\n",
       "    (6): Flatten(start_dim=1, end_dim=-1)\n",
       "    (7): Linear(in_features=3136, out_features=512, bias=True)\n",
       "    (8): ReLU()\n",
       "    (9): Linear(in_features=512, out_features=6, bias=True)\n",
       "  )\n",
       ")"
      ]
     },
     "execution_count": 11,
     "metadata": {},
     "output_type": "execute_result"
    }
   ],
   "source": [
    "agent.network"
   ]
  },
  {
   "cell_type": "code",
   "execution_count": 12,
   "id": "db2cdd4b-90d3-435f-a136-22261d874dad",
   "metadata": {},
   "outputs": [],
   "source": [
    "logger = Logger('training_info')"
   ]
  },
  {
   "cell_type": "code",
   "execution_count": 13,
   "id": "4da64f3f-cabb-42b4-9c8d-6845f9b7cd82",
   "metadata": {},
   "outputs": [],
   "source": [
    "save_dir = '../models/spaceinvaders/'\n",
    "training_params = {'total_steps':15000000, 'logger':logger, 'save_freq':100000, 'e_verbose':1000000, 'file_name': 'space invaders ddqn', 'save_dir':save_dir}"
   ]
  },
  {
   "cell_type": "markdown",
   "id": "caac7031-8df2-452c-8094-1c0596705be7",
   "metadata": {},
   "source": [
    "### Deepmind Atari Preprocesing:\n",
    "* Extremely high RAM usage\n",
    "* Frameskips between stacked inputs\n",
    "    * Each input spans 16 frames\n",
    "* Inputs have overlap\n",
    "    * (x1, x2, x3, x4) --env.step--> (x2, x3, x4, x5)\n",
    "    * x1 and x2 differ by 4 frames\n",
    "* READ: https://danieltakeshi.github.io/2016/11/25/frame-skipping-and-preprocessing-for-deep-q-networks-on-atari-2600-games/\n",
    "\n",
    "### My Atari Preprocessing:\n",
    "* Lower RAM usage\n",
    "* No frameskips between stacked inputs. \n",
    "    * Each input spans 4 frames\n",
    "* No overlap between frames unless environment termination\n",
    "    * (x1, x2, x3, x4) --env.step--> (x5, x6, x7, x8)"
   ]
  },
  {
   "cell_type": "code",
   "execution_count": 14,
   "id": "1fd369d2-819e-4e81-81be-493185d2753a",
   "metadata": {},
   "outputs": [
    {
     "name": "stdout",
     "output_type": "stream",
     "text": [
      "Episode 191: Saved model weights and log.\n",
      "Episode 383: Saved model weights and log.\n",
      "Episode 568: Saved model weights and log.\n",
      "Episode 751: Saved model weights and log.\n",
      "Episode 930: Saved model weights and log.\n",
      "Episode 1107: Saved model weights and log.\n",
      "Episode 1280: Saved model weights and log.\n",
      "Episode 1449: Saved model weights and log.\n",
      "Episode 1614: Saved model weights and log.\n",
      "Steps : 1000000, Average Reward: 187.21941638608305, Memory Length: 150000, Optimizer Steps: 1000000, Time Elapsed: 8225.072765111923, Target Q Updates: 400\n",
      "Episode 1782: Saved model weights and log.\n",
      "Episode 1943: Saved model weights and log.\n",
      "Episode 2097: Saved model weights and log.\n",
      "Episode 2266: Saved model weights and log.\n",
      "Episode 2422: Saved model weights and log.\n",
      "Episode 2585: Saved model weights and log.\n",
      "Episode 2747: Saved model weights and log.\n",
      "Episode 2906: Saved model weights and log.\n",
      "Episode 3065: Saved model weights and log.\n",
      "Episode 3226: Saved model weights and log.\n",
      "Steps : 2000000, Average Reward: 230.04361370716512, Memory Length: 150000, Optimizer Steps: 2000000, Time Elapsed: 7431.034835577011, Target Q Updates: 800\n",
      "Episode 3387: Saved model weights and log.\n",
      "Episode 3547: Saved model weights and log.\n",
      "Episode 3719: Saved model weights and log.\n",
      "Episode 3879: Saved model weights and log.\n",
      "Episode 4043: Saved model weights and log.\n",
      "Episode 4199: Saved model weights and log.\n",
      "Episode 4356: Saved model weights and log.\n",
      "Episode 4519: Saved model weights and log.\n",
      "Episode 4676: Saved model weights and log.\n",
      "Episode 4837: Saved model weights and log.\n",
      "Steps : 3000000, Average Reward: 232.30099502487562, Memory Length: 150000, Optimizer Steps: 3000000, Time Elapsed: 7405.163347959518, Target Q Updates: 1200\n",
      "Episode 4995: Saved model weights and log.\n",
      "Episode 5157: Saved model weights and log.\n",
      "Episode 5310: Saved model weights and log.\n",
      "Episode 5465: Saved model weights and log.\n",
      "Episode 5619: Saved model weights and log.\n",
      "Episode 5772: Saved model weights and log.\n",
      "Episode 5928: Saved model weights and log.\n",
      "Episode 6087: Saved model weights and log.\n",
      "Episode 6238: Saved model weights and log.\n",
      "Episode 6394: Saved model weights and log.\n",
      "Steps : 4000000, Average Reward: 244.48907455012852, Memory Length: 150000, Optimizer Steps: 4000000, Time Elapsed: 7397.6382620334625, Target Q Updates: 1600\n",
      "Episode 6551: Saved model weights and log.\n",
      "Episode 6707: Saved model weights and log.\n",
      "Episode 6869: Saved model weights and log.\n",
      "Episode 7027: Saved model weights and log.\n",
      "Episode 7188: Saved model weights and log.\n",
      "Episode 7346: Saved model weights and log.\n",
      "Episode 7499: Saved model weights and log.\n",
      "Episode 7657: Saved model weights and log.\n",
      "Episode 7816: Saved model weights and log.\n",
      "Episode 7974: Saved model weights and log.\n",
      "Steps : 5000000, Average Reward: 242.9955668144395, Memory Length: 150000, Optimizer Steps: 5000000, Time Elapsed: 7401.154137372971, Target Q Updates: 2000\n",
      "Episode 8130: Saved model weights and log.\n",
      "Episode 8277: Saved model weights and log.\n",
      "Episode 8430: Saved model weights and log.\n",
      "Episode 8588: Saved model weights and log.\n",
      "Episode 8743: Saved model weights and log.\n",
      "Episode 8903: Saved model weights and log.\n",
      "Episode 9054: Saved model weights and log.\n",
      "Episode 9212: Saved model weights and log.\n",
      "Episode 9366: Saved model weights and log.\n",
      "Episode 9529: Saved model weights and log.\n",
      "Steps : 6000000, Average Reward: 241.3208762886598, Memory Length: 150000, Optimizer Steps: 6000000, Time Elapsed: 7391.822947025299, Target Q Updates: 2400\n",
      "Episode 9682: Saved model weights and log.\n",
      "Episode 9832: Saved model weights and log.\n",
      "Episode 9984: Saved model weights and log.\n",
      "Episode 10134: Saved model weights and log.\n",
      "Episode 10292: Saved model weights and log.\n",
      "Episode 10446: Saved model weights and log.\n",
      "Episode 10605: Saved model weights and log.\n",
      "Episode 10770: Saved model weights and log.\n",
      "Episode 10927: Saved model weights and log.\n",
      "Episode 11081: Saved model weights and log.\n",
      "Steps : 7000000, Average Reward: 240.11568123393317, Memory Length: 150000, Optimizer Steps: 7000000, Time Elapsed: 7385.260707616806, Target Q Updates: 2800\n",
      "Episode 11238: Saved model weights and log.\n",
      "Episode 11392: Saved model weights and log.\n",
      "Episode 11552: Saved model weights and log.\n",
      "Episode 11712: Saved model weights and log.\n",
      "Episode 11865: Saved model weights and log.\n",
      "Episode 12021: Saved model weights and log.\n",
      "Episode 12174: Saved model weights and log.\n",
      "Episode 12324: Saved model weights and log.\n",
      "Episode 12474: Saved model weights and log.\n",
      "Episode 12631: Saved model weights and log.\n",
      "Steps : 8000000, Average Reward: 245.74983839689722, Memory Length: 150000, Optimizer Steps: 8000000, Time Elapsed: 7391.8234968185425, Target Q Updates: 3200\n",
      "Episode 12785: Saved model weights and log.\n",
      "Episode 12942: Saved model weights and log.\n",
      "Episode 13099: Saved model weights and log.\n",
      "Episode 13264: Saved model weights and log.\n",
      "Episode 13425: Saved model weights and log.\n",
      "Episode 13586: Saved model weights and log.\n",
      "Episode 13738: Saved model weights and log.\n",
      "Episode 13892: Saved model weights and log.\n",
      "Episode 14047: Saved model weights and log.\n",
      "Episode 14196: Saved model weights and log.\n",
      "Steps : 9000000, Average Reward: 239.24920127795528, Memory Length: 150000, Optimizer Steps: 9000000, Time Elapsed: 7393.1239359378815, Target Q Updates: 3600\n",
      "Episode 14350: Saved model weights and log.\n",
      "Episode 14504: Saved model weights and log.\n",
      "Episode 14670: Saved model weights and log.\n",
      "Episode 14823: Saved model weights and log.\n",
      "Episode 14977: Saved model weights and log.\n",
      "Episode 15132: Saved model weights and log.\n",
      "Episode 15291: Saved model weights and log.\n",
      "Episode 15444: Saved model weights and log.\n",
      "Episode 15597: Saved model weights and log.\n",
      "Episode 15755: Saved model weights and log.\n",
      "Steps : 10000000, Average Reward: 244.0363752393108, Memory Length: 150000, Optimizer Steps: 10000000, Time Elapsed: 7401.720146179199, Target Q Updates: 4000\n",
      "Episode 15917: Saved model weights and log.\n",
      "Episode 16072: Saved model weights and log.\n",
      "Episode 16241: Saved model weights and log.\n",
      "Episode 16396: Saved model weights and log.\n",
      "Episode 16561: Saved model weights and log.\n",
      "Episode 16722: Saved model weights and log.\n",
      "Episode 16883: Saved model weights and log.\n",
      "Episode 17036: Saved model weights and log.\n",
      "Episode 17195: Saved model weights and log.\n",
      "Episode 17353: Saved model weights and log.\n",
      "Steps : 11000000, Average Reward: 244.05243209096653, Memory Length: 150000, Optimizer Steps: 11000000, Time Elapsed: 7408.395881652832, Target Q Updates: 4400\n",
      "Episode 17500: Saved model weights and log.\n",
      "Episode 17664: Saved model weights and log.\n",
      "Episode 17824: Saved model weights and log.\n",
      "Episode 17985: Saved model weights and log.\n",
      "Episode 18142: Saved model weights and log.\n",
      "Episode 18293: Saved model weights and log.\n",
      "Episode 18457: Saved model weights and log.\n",
      "Episode 18612: Saved model weights and log.\n",
      "Episode 18766: Saved model weights and log.\n",
      "Episode 18927: Saved model weights and log.\n",
      "Steps : 12000000, Average Reward: 238.09493670886076, Memory Length: 150000, Optimizer Steps: 12000000, Time Elapsed: 7409.193512201309, Target Q Updates: 4800\n",
      "Episode 19080: Saved model weights and log.\n",
      "Episode 19229: Saved model weights and log.\n",
      "Episode 19390: Saved model weights and log.\n",
      "Episode 19540: Saved model weights and log.\n",
      "Episode 19688: Saved model weights and log.\n",
      "Episode 19842: Saved model weights and log.\n",
      "Episode 20001: Saved model weights and log.\n",
      "Episode 20162: Saved model weights and log.\n",
      "Episode 20316: Saved model weights and log.\n",
      "Episode 20467: Saved model weights and log.\n",
      "Steps : 13000000, Average Reward: 244.85370611183356, Memory Length: 150000, Optimizer Steps: 13000000, Time Elapsed: 7400.9147436618805, Target Q Updates: 5200\n",
      "Episode 20618: Saved model weights and log.\n",
      "Episode 20765: Saved model weights and log.\n",
      "Episode 20919: Saved model weights and log.\n",
      "Episode 21082: Saved model weights and log.\n",
      "Episode 21238: Saved model weights and log.\n",
      "Episode 21396: Saved model weights and log.\n",
      "Episode 21558: Saved model weights and log.\n",
      "Episode 21716: Saved model weights and log.\n",
      "Episode 21876: Saved model weights and log.\n",
      "Episode 22032: Saved model weights and log.\n",
      "Steps : 14000000, Average Reward: 242.29007633587787, Memory Length: 150000, Optimizer Steps: 14000000, Time Elapsed: 7403.601322412491, Target Q Updates: 5600\n",
      "Episode 22190: Saved model weights and log.\n",
      "Episode 22356: Saved model weights and log.\n",
      "Episode 22503: Saved model weights and log.\n",
      "Episode 22660: Saved model weights and log.\n",
      "Episode 22815: Saved model weights and log.\n",
      "Episode 22975: Saved model weights and log.\n",
      "Episode 23117: Saved model weights and log.\n",
      "Episode 23281: Saved model weights and log.\n",
      "Episode 23441: Saved model weights and log.\n",
      "Episode 23599: Saved model weights and log.\n",
      "Steps : 15000000, Average Reward: 242.67596702599874, Memory Length: 150000, Optimizer Steps: 15000000, Time Elapsed: 7412.75035738945, Target Q Updates: 6000\n",
      "Episode 23767: Saved model weights and log.\n"
     ]
    }
   ],
   "source": [
    "standard_train(agent, env, **training_params)"
   ]
  },
  {
   "cell_type": "markdown",
   "id": "da19d3e6-4f61-43ba-97b5-f1d784019762",
   "metadata": {},
   "source": [
    "# if doesnt work, change noop, monitor, and firereset. all useless. also make it so the user can specify which environments to use."
   ]
  },
  {
   "cell_type": "code",
   "execution_count": 15,
   "id": "e2cfcb04-e6f9-4988-ade3-01ea4359c966",
   "metadata": {},
   "outputs": [],
   "source": [
    "path = '../models/spaceinvaders/si ddqn 2.pth'\n",
    "save = '../models/spaceinvaders/si ddqn 2 final.pth'"
   ]
  },
  {
   "cell_type": "code",
   "execution_count": 16,
   "id": "1335cc24-d1b1-4d93-87ee-62262f7a317a",
   "metadata": {},
   "outputs": [],
   "source": [
    "agent.save(save)"
   ]
  },
  {
   "cell_type": "code",
   "execution_count": 17,
   "id": "51b4716a-55b5-4a33-a3cb-e9807f8e320c",
   "metadata": {},
   "outputs": [
    {
     "name": "stdout",
     "output_type": "stream",
     "text": [
      "Reward: 130.0\n"
     ]
    },
    {
     "data": {
      "image/png": "[encoded data removed]",
      "text/plain": [
       "<Figure size 432x288 with 1 Axes>"
      ]
     },
     "metadata": {
      "needs_background": "light"
     },
     "output_type": "display_data"
    }
   ],
   "source": [
    "render_agent(agent, env, save, 3)"
   ]
  },
  {
   "cell_type": "code",
   "execution_count": null,
   "id": "f83bb4c0-0523-44e9-97cb-0bbabcc0d8e5",
   "metadata": {},
   "outputs": [],
   "source": []
  }
 ],
 "metadata": {
  "kernelspec": {
   "display_name": "Python 3 (ipykernel)",
   "language": "python",
   "name": "python3"
  },
  "language_info": {
   "codemirror_mode": {
    "name": "ipython",
    "version": 3
   },
   "file_extension": ".py",
   "mimetype": "text/x-python",
   "name": "python",
   "nbconvert_exporter": "python",
   "pygments_lexer": "ipython3",
   "version": "3.8.12"
  }
 },
 "nbformat": 4,
 "nbformat_minor": 5
}
